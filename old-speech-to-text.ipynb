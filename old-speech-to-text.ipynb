{
 "cells": [
  {
   "cell_type": "code",
   "execution_count": 1,
   "metadata": {},
   "outputs": [
    {
     "name": "stdout",
     "output_type": "stream",
     "text": [
      "Requirement already satisfied: vosk in c:\\users\\sredd\\appdata\\local\\programs\\python\\python311\\lib\\site-packages (0.3.45)\n",
      "Requirement already satisfied: cffi>=1.0 in c:\\users\\sredd\\appdata\\local\\programs\\python\\python311\\lib\\site-packages (from vosk) (1.15.1)\n",
      "Requirement already satisfied: requests in c:\\users\\sredd\\appdata\\local\\programs\\python\\python311\\lib\\site-packages (from vosk) (2.31.0)\n",
      "Requirement already satisfied: srt in c:\\users\\sredd\\appdata\\local\\programs\\python\\python311\\lib\\site-packages (from vosk) (3.5.3)\n",
      "Requirement already satisfied: tqdm in c:\\users\\sredd\\appdata\\local\\programs\\python\\python311\\lib\\site-packages (from vosk) (4.67.1)\n",
      "Requirement already satisfied: websockets in c:\\users\\sredd\\appdata\\local\\programs\\python\\python311\\lib\\site-packages (from vosk) (15.0)\n",
      "Requirement already satisfied: pycparser in c:\\users\\sredd\\appdata\\local\\programs\\python\\python311\\lib\\site-packages (from cffi>=1.0->vosk) (2.21)\n",
      "Requirement already satisfied: charset-normalizer<4,>=2 in c:\\users\\sredd\\appdata\\local\\programs\\python\\python311\\lib\\site-packages (from requests->vosk) (3.2.0)\n",
      "Requirement already satisfied: idna<4,>=2.5 in c:\\users\\sredd\\appdata\\local\\programs\\python\\python311\\lib\\site-packages (from requests->vosk) (3.4)\n",
      "Requirement already satisfied: urllib3<3,>=1.21.1 in c:\\users\\sredd\\appdata\\roaming\\python\\python311\\site-packages (from requests->vosk) (1.26.19)\n",
      "Requirement already satisfied: certifi>=2017.4.17 in c:\\users\\sredd\\appdata\\local\\programs\\python\\python311\\lib\\site-packages (from requests->vosk) (2023.7.22)\n",
      "Requirement already satisfied: colorama in c:\\users\\sredd\\appdata\\local\\programs\\python\\python311\\lib\\site-packages (from tqdm->vosk) (0.4.6)\n",
      "Note: you may need to restart the kernel to use updated packages.\n"
     ]
    },
    {
     "name": "stderr",
     "output_type": "stream",
     "text": [
      "\n",
      "[notice] A new release of pip is available: 23.2.1 -> 25.0.1\n",
      "[notice] To update, run: python.exe -m pip install --upgrade pip\n"
     ]
    }
   ],
   "source": [
    "%pip install vosk"
   ]
  },
  {
   "cell_type": "code",
   "execution_count": 2,
   "metadata": {},
   "outputs": [
    {
     "name": "stdout",
     "output_type": "stream",
     "text": [
      "Requirement already satisfied: sounddevice in c:\\users\\sredd\\appdata\\local\\programs\\python\\python311\\lib\\site-packages (0.5.1)\n",
      "Requirement already satisfied: CFFI>=1.0 in c:\\users\\sredd\\appdata\\local\\programs\\python\\python311\\lib\\site-packages (from sounddevice) (1.15.1)\n",
      "Requirement already satisfied: pycparser in c:\\users\\sredd\\appdata\\local\\programs\\python\\python311\\lib\\site-packages (from CFFI>=1.0->sounddevice) (2.21)\n",
      "Note: you may need to restart the kernel to use updated packages.\n"
     ]
    },
    {
     "name": "stderr",
     "output_type": "stream",
     "text": [
      "\n",
      "[notice] A new release of pip is available: 23.2.1 -> 25.0.1\n",
      "[notice] To update, run: python.exe -m pip install --upgrade pip\n"
     ]
    }
   ],
   "source": [
    "%pip install sounddevice "
   ]
  },
  {
   "cell_type": "code",
   "execution_count": 5,
   "metadata": {},
   "outputs": [
    {
     "name": "stdout",
     "output_type": "stream",
     "text": [
      "Note: you may need to restart the kernel to use updated packages.Requirement already satisfied: transformers in c:\\users\\sredd\\appdata\\local\\programs\\python\\python311\\lib\\site-packages (4.47.1)\n",
      "Requirement already satisfied: filelock in c:\\users\\sredd\\appdata\\local\\programs\\python\\python311\\lib\\site-packages (from transformers) (3.16.1)\n",
      "Requirement already satisfied: huggingface-hub<1.0,>=0.24.0 in c:\\users\\sredd\\appdata\\local\\programs\\python\\python311\\lib\\site-packages (from transformers) (0.27.0)\n",
      "Requirement already satisfied: numpy>=1.17 in c:\\users\\sredd\\appdata\\local\\programs\\python\\python311\\lib\\site-packages (from transformers) (1.24.3)\n",
      "Requirement already satisfied: packaging>=20.0 in c:\\users\\sredd\\appdata\\local\\programs\\python\\python311\\lib\\site-packages (from transformers) (23.1)\n",
      "Requirement already satisfied: pyyaml>=5.1 in c:\\users\\sredd\\appdata\\local\\programs\\python\\python311\\lib\\site-packages (from transformers) (6.0.1)\n",
      "Requirement already satisfied: regex!=2019.12.17 in c:\\users\\sredd\\appdata\\local\\programs\\python\\python311\\lib\\site-packages (from transformers) (2024.11.6)\n",
      "Requirement already satisfied: requests in c:\\users\\sredd\\appdata\\local\\programs\\python\\python311\\lib\\site-packages (from transformers) (2.31.0)\n",
      "Requirement already satisfied: tokenizers<0.22,>=0.21 in c:\\users\\sredd\\appdata\\local\\programs\\python\\python311\\lib\\site-packages (from transformers) (0.21.0)\n",
      "Requirement already satisfied: safetensors>=0.4.1 in c:\\users\\sredd\\appdata\\local\\programs\\python\\python311\\lib\\site-packages (from transformers) (0.5.0)\n",
      "Requirement already satisfied: tqdm>=4.27 in c:\\users\\sredd\\appdata\\local\\programs\\python\\python311\\lib\\site-packages (from transformers) (4.67.1)\n",
      "Requirement already satisfied: fsspec>=2023.5.0 in c:\\users\\sredd\\appdata\\local\\programs\\python\\python311\\lib\\site-packages (from huggingface-hub<1.0,>=0.24.0->transformers) (2024.12.0)\n",
      "Requirement already satisfied: typing-extensions>=3.7.4.3 in c:\\users\\sredd\\appdata\\local\\programs\\python\\python311\\lib\\site-packages (from huggingface-hub<1.0,>=0.24.0->transformers) (4.8.0)\n",
      "Requirement already satisfied: colorama in c:\\users\\sredd\\appdata\\local\\programs\\python\\python311\\lib\\site-packages (from tqdm>=4.27->transformers) (0.4.6)\n",
      "Requirement already satisfied: charset-normalizer<4,>=2 in c:\\users\\sredd\\appdata\\local\\programs\\python\\python311\\lib\\site-packages (from requests->transformers) (3.2.0)\n",
      "Requirement already satisfied: idna<4,>=2.5 in c:\\users\\sredd\\appdata\\local\\programs\\python\\python311\\lib\\site-packages (from requests->transformers) (3.4)\n",
      "Requirement already satisfied: urllib3<3,>=1.21.1 in c:\\users\\sredd\\appdata\\roaming\\python\\python311\\site-packages (from requests->transformers) (1.26.19)\n",
      "Requirement already satisfied: certifi>=2017.4.17 in c:\\users\\sredd\\appdata\\local\\programs\\python\\python311\\lib\\site-packages (from requests->transformers) (2023.7.22)\n",
      "\n"
     ]
    },
    {
     "name": "stderr",
     "output_type": "stream",
     "text": [
      "\n",
      "[notice] A new release of pip is available: 23.2.1 -> 25.0.1\n",
      "[notice] To update, run: python.exe -m pip install --upgrade pip\n"
     ]
    }
   ],
   "source": [
    "%pip install transformers"
   ]
  },
  {
   "cell_type": "code",
   "execution_count": 6,
   "metadata": {},
   "outputs": [],
   "source": [
    "import threading\n",
    "import sounddevice as sd\n",
    "import queue\n",
    "import vosk\n",
    "from vosk import Model, KaldiRecognizer\n",
    "from transformers import pipeline \n",
    "import json"
   ]
  },
  {
   "cell_type": "code",
   "execution_count": 7,
   "metadata": {},
   "outputs": [],
   "source": [
    "model = Model(lang=\"en-us\")"
   ]
  },
  {
   "cell_type": "code",
   "execution_count": 8,
   "metadata": {},
   "outputs": [],
   "source": [
    "recognizer = KaldiRecognizer(model, 16000)"
   ]
  },
  {
   "cell_type": "code",
   "execution_count": 9,
   "metadata": {},
   "outputs": [],
   "source": [
    "q = queue.Queue()"
   ]
  },
  {
   "cell_type": "code",
   "execution_count": 60,
   "metadata": {},
   "outputs": [],
   "source": [
    "def callback(indata, frames, time, status):\n",
    "    q.put(bytes(indata))"
   ]
  },
  {
   "cell_type": "code",
   "execution_count": 79,
   "metadata": {},
   "outputs": [],
   "source": [
    "stop_event = threading.Event()"
   ]
  },
  {
   "cell_type": "code",
   "execution_count": 80,
   "metadata": {},
   "outputs": [],
   "source": [
    "def listen_for_stop():\n",
    "    while True:\n",
    "        user_input = input()\n",
    "        if user_input.lower() == 'stop':\n",
    "            stop_event.set()\n",
    "            break"
   ]
  },
  {
   "cell_type": "code",
   "execution_count": 81,
   "metadata": {},
   "outputs": [
    {
     "name": "stdout",
     "output_type": "stream",
     "text": [
      "Say something\n",
      "{'text': 'hello how are you'}\n"
     ]
    }
   ],
   "source": [
    "# with sd.RawInputStream(samplerate=16000, blocksize=8000, dtype='int16',\n",
    "#                        channels=1, callback=callback):\n",
    "#     print(\"Say something\")\n",
    "\n",
    "#     while True:\n",
    "#         data = q.get()\n",
    "#         if recognizer.AcceptWaveform(data):\n",
    "#             result = recognizer.Result()\n",
    "#             print(json.loads(result))\n",
    "#         else:\n",
    "#             partial_result = recognizer.PartialResult()\n",
    "#             print(json.loads(partial_result))\n",
    "\n",
    "#     final_result = recognizer.FinalResult()\n",
    "#     print(json.loads(final_result))\n",
    "\n",
    "listener_thread = threading.Thread(target=listen_for_stop)\n",
    "listener_thread.start()\n",
    "\n",
    "with sd.RawInputStream(samplerate=16000, blocksize=8000, dtype='int16',\n",
    "                       channels=1, callback=callback):\n",
    "    print(\"Say something\")\n",
    "\n",
    "    while not stop_event.is_set():\n",
    "        data = q.get()\n",
    "        if recognizer.AcceptWaveform(data):\n",
    "            result = recognizer.Result()\n",
    "            # print(json.loads(result))\n",
    "        else:\n",
    "            partial_result = recognizer.PartialResult()\n",
    "            # print(json.loads(partial_result))\n",
    "\n",
    "    final_result = recognizer.FinalResult()\n",
    "    print(json.loads(final_result))"
   ]
  },
  {
   "cell_type": "code",
   "execution_count": 26,
   "metadata": {},
   "outputs": [
    {
     "name": "stderr",
     "output_type": "stream",
     "text": [
      "c:\\Users\\sredd\\AppData\\Local\\Programs\\Python\\Python311\\Lib\\site-packages\\huggingface_hub\\file_download.py:140: UserWarning: `huggingface_hub` cache-system uses symlinks by default to efficiently store duplicated files but your machine does not support them in C:\\Users\\sredd\\.cache\\huggingface\\hub\\models--d4data--biomedical-ner-all. Caching files will still work but in a degraded version that might require more space on your disk. This warning can be disabled by setting the `HF_HUB_DISABLE_SYMLINKS_WARNING` environment variable. For more details, see https://huggingface.co/docs/huggingface_hub/how-to-cache#limitations.\n",
      "To support symlinks on Windows, you either need to activate Developer Mode or to run Python as an administrator. In order to activate developer mode, see this article: https://docs.microsoft.com/en-us/windows/apps/get-started/enable-your-device-for-development\n",
      "  warnings.warn(message)\n",
      "Device set to use cpu\n"
     ]
    }
   ],
   "source": [
    "ner_pipeline = pipeline(\"ner\", model=\"d4data/biomedical-ner-all\", aggregation_strategy=\"simple\")"
   ]
  },
  {
   "cell_type": "code",
   "execution_count": 27,
   "metadata": {},
   "outputs": [],
   "source": [
    "def redact_phi(text):\n",
    "    entities = ner_pipeline(text)\n",
    "    redacted_text = text\n",
    "    for entity in sorted(entities, key=lambda x: x['start'], reverse=True):\n",
    "        redacted_text = redacted_text[:entity['start']] + f\"[{entity['entity_group'].upper()}_REDACTED]\" + redacted_text[entity['end']:]\n",
    "    return redacted_text"
   ]
  },
  {
   "cell_type": "code",
   "execution_count": 52,
   "metadata": {},
   "outputs": [
    {
     "name": "stdout",
     "output_type": "stream",
     "text": [
      "[DIAGNOSTIC_PROCEDURE_REDACTED] [DIAGNOSTIC_PROCEDURE_REDACTED] [NONBIOLOGICAL_LOCATION_REDACTED]\n"
     ]
    }
   ],
   "source": [
    "text = (json.loads(final_result))['text']\n",
    "print(text)\n",
    "ner_transcript = redact_phi(text)\n",
    "print(ner_transcript)"
   ]
  }
 ],
 "metadata": {
  "kernelspec": {
   "display_name": "Python 3",
   "language": "python",
   "name": "python3"
  },
  "language_info": {
   "codemirror_mode": {
    "name": "ipython",
    "version": 3
   },
   "file_extension": ".py",
   "mimetype": "text/x-python",
   "name": "python",
   "nbconvert_exporter": "python",
   "pygments_lexer": "ipython3",
   "version": "3.11.2"
  }
 },
 "nbformat": 4,
 "nbformat_minor": 2
}
