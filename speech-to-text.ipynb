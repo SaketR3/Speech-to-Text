{
 "cells": [
  {
   "cell_type": "code",
   "execution_count": 1,
   "metadata": {},
   "outputs": [
    {
     "name": "stdout",
     "output_type": "stream",
     "text": [
      "Collecting voskNote: you may need to restart the kernel to use updated packages.\n",
      "\n",
      "  Obtaining dependency information for vosk from https://files.pythonhosted.org/packages/c0/4c/deb0861f7da9696f8a255f1731bb73e9412cca29c4b3888a3fcb2a930a59/vosk-0.3.45-py3-none-win_amd64.whl.metadata\n",
      "  Downloading vosk-0.3.45-py3-none-win_amd64.whl.metadata (1.8 kB)\n",
      "Requirement already satisfied: cffi>=1.0 in c:\\users\\sredd\\appdata\\local\\programs\\python\\python311\\lib\\site-packages (from vosk) (1.15.1)\n",
      "Requirement already satisfied: requests in c:\\users\\sredd\\appdata\\local\\programs\\python\\python311\\lib\\site-packages (from vosk) (2.31.0)\n",
      "Collecting srt (from vosk)\n",
      "  Downloading srt-3.5.3.tar.gz (28 kB)\n",
      "  Preparing metadata (setup.py): started\n",
      "  Preparing metadata (setup.py): finished with status 'done'\n",
      "Requirement already satisfied: tqdm in c:\\users\\sredd\\appdata\\local\\programs\\python\\python311\\lib\\site-packages (from vosk) (4.67.1)\n",
      "Collecting websockets (from vosk)\n",
      "  Obtaining dependency information for websockets from https://files.pythonhosted.org/packages/8d/7b/444edcd5365538c226b631897975a65bbf5ccf27c77102e17d8f12a306ea/websockets-15.0-cp311-cp311-win_amd64.whl.metadata\n",
      "  Downloading websockets-15.0-cp311-cp311-win_amd64.whl.metadata (7.0 kB)\n",
      "Requirement already satisfied: pycparser in c:\\users\\sredd\\appdata\\local\\programs\\python\\python311\\lib\\site-packages (from cffi>=1.0->vosk) (2.21)\n",
      "Requirement already satisfied: charset-normalizer<4,>=2 in c:\\users\\sredd\\appdata\\local\\programs\\python\\python311\\lib\\site-packages (from requests->vosk) (3.2.0)\n",
      "Requirement already satisfied: idna<4,>=2.5 in c:\\users\\sredd\\appdata\\local\\programs\\python\\python311\\lib\\site-packages (from requests->vosk) (3.4)\n",
      "Requirement already satisfied: urllib3<3,>=1.21.1 in c:\\users\\sredd\\appdata\\roaming\\python\\python311\\site-packages (from requests->vosk) (1.26.19)\n",
      "Requirement already satisfied: certifi>=2017.4.17 in c:\\users\\sredd\\appdata\\local\\programs\\python\\python311\\lib\\site-packages (from requests->vosk) (2023.7.22)\n",
      "Requirement already satisfied: colorama in c:\\users\\sredd\\appdata\\local\\programs\\python\\python311\\lib\\site-packages (from tqdm->vosk) (0.4.6)\n",
      "Downloading vosk-0.3.45-py3-none-win_amd64.whl (14.0 MB)\n",
      "   ---------------------------------------- 0.0/14.0 MB ? eta -:--:--\n",
      "   ---------------------------------------- 0.2/14.0 MB 3.5 MB/s eta 0:00:04\n",
      "   - -------------------------------------- 0.4/14.0 MB 3.8 MB/s eta 0:00:04\n",
      "   -- ------------------------------------- 0.8/14.0 MB 6.3 MB/s eta 0:00:03\n",
      "   --- ------------------------------------ 1.1/14.0 MB 6.6 MB/s eta 0:00:02\n",
      "   ---- ----------------------------------- 1.7/14.0 MB 7.6 MB/s eta 0:00:02\n",
      "   ----- ---------------------------------- 1.8/14.0 MB 7.5 MB/s eta 0:00:02\n",
      "   ----- ---------------------------------- 1.8/14.0 MB 5.4 MB/s eta 0:00:03\n",
      "   ------- -------------------------------- 2.7/14.0 MB 7.6 MB/s eta 0:00:02\n",
      "   --------- ------------------------------ 3.2/14.0 MB 7.8 MB/s eta 0:00:02\n",
      "   ---------- ----------------------------- 3.7/14.0 MB 8.0 MB/s eta 0:00:02\n",
      "   ---------- ----------------------------- 3.8/14.0 MB 7.7 MB/s eta 0:00:02\n",
      "   ------------ --------------------------- 4.3/14.0 MB 7.9 MB/s eta 0:00:02\n",
      "   ------------- -------------------------- 4.8/14.0 MB 8.0 MB/s eta 0:00:02\n",
      "   -------------- ------------------------- 5.0/14.0 MB 7.8 MB/s eta 0:00:02\n",
      "   --------------- ------------------------ 5.5/14.0 MB 7.9 MB/s eta 0:00:02\n",
      "   ---------------- ----------------------- 5.9/14.0 MB 8.0 MB/s eta 0:00:02\n",
      "   ------------------ --------------------- 6.4/14.0 MB 8.2 MB/s eta 0:00:01\n",
      "   ------------------ --------------------- 6.6/14.0 MB 8.0 MB/s eta 0:00:01\n",
      "   ------------------- -------------------- 6.9/14.0 MB 8.1 MB/s eta 0:00:01\n",
      "   -------------------- ------------------- 7.3/14.0 MB 8.1 MB/s eta 0:00:01\n",
      "   --------------------- ------------------ 7.7/14.0 MB 7.9 MB/s eta 0:00:01\n",
      "   ----------------------- ---------------- 8.1/14.0 MB 8.0 MB/s eta 0:00:01\n",
      "   ------------------------ --------------- 8.6/14.0 MB 8.1 MB/s eta 0:00:01\n",
      "   ------------------------- -------------- 8.9/14.0 MB 8.2 MB/s eta 0:00:01\n",
      "   -------------------------- ------------- 9.1/14.0 MB 7.9 MB/s eta 0:00:01\n",
      "   --------------------------- ------------ 9.7/14.0 MB 8.0 MB/s eta 0:00:01\n",
      "   ---------------------------- ----------- 10.0/14.0 MB 8.0 MB/s eta 0:00:01\n",
      "   ----------------------------- ---------- 10.4/14.0 MB 8.2 MB/s eta 0:00:01\n",
      "   ------------------------------- -------- 10.9/14.0 MB 8.4 MB/s eta 0:00:01\n",
      "   -------------------------------- ------- 11.3/14.0 MB 8.3 MB/s eta 0:00:01\n",
      "   --------------------------------- ------ 11.6/14.0 MB 8.3 MB/s eta 0:00:01\n",
      "   --------------------------------- ------ 11.7/14.0 MB 8.1 MB/s eta 0:00:01\n",
      "   ---------------------------------- ----- 12.1/14.0 MB 8.6 MB/s eta 0:00:01\n",
      "   ----------------------------------- ---- 12.3/14.0 MB 8.2 MB/s eta 0:00:01\n",
      "   ------------------------------------ --- 12.7/14.0 MB 7.9 MB/s eta 0:00:01\n",
      "   ------------------------------------- -- 13.1/14.0 MB 7.9 MB/s eta 0:00:01\n",
      "   -------------------------------------- - 13.3/14.0 MB 7.9 MB/s eta 0:00:01\n",
      "   ---------------------------------------  13.7/14.0 MB 7.8 MB/s eta 0:00:01\n",
      "   ---------------------------------------  13.8/14.0 MB 7.8 MB/s eta 0:00:01\n",
      "   ---------------------------------------  14.0/14.0 MB 7.6 MB/s eta 0:00:01\n",
      "   ---------------------------------------  14.0/14.0 MB 7.6 MB/s eta 0:00:01\n",
      "   ---------------------------------------- 14.0/14.0 MB 7.0 MB/s eta 0:00:00\n",
      "Downloading websockets-15.0-cp311-cp311-win_amd64.whl (176 kB)\n",
      "   ---------------------------------------- 0.0/176.1 kB ? eta -:--:--\n",
      "   --------------------------------------- 176.1/176.1 kB 11.1 MB/s eta 0:00:00\n",
      "Building wheels for collected packages: srt\n",
      "  Building wheel for srt (setup.py): started\n",
      "  Building wheel for srt (setup.py): finished with status 'done'\n",
      "  Created wheel for srt: filename=srt-3.5.3-py3-none-any.whl size=22557 sha256=b1563eee5eaceaf7e82219e51015a611394a99dbe348407f09c8329ef2163c83\n",
      "  Stored in directory: c:\\users\\sredd\\appdata\\local\\pip\\cache\\wheels\\1f\\43\\f1\\23ee9119497fcb57d9f7046fbf34c6d9027c46a1fa7824cf08\n",
      "Successfully built srt\n",
      "Installing collected packages: websockets, srt, vosk\n",
      "Successfully installed srt-3.5.3 vosk-0.3.45 websockets-15.0\n"
     ]
    },
    {
     "name": "stderr",
     "output_type": "stream",
     "text": [
      "  WARNING: The script vosk-transcriber.exe is installed in 'c:\\Users\\sredd\\AppData\\Local\\Programs\\Python\\Python311\\Scripts' which is not on PATH.\n",
      "  Consider adding this directory to PATH or, if you prefer to suppress this warning, use --no-warn-script-location.\n",
      "\n",
      "[notice] A new release of pip is available: 23.2.1 -> 25.0.1\n",
      "[notice] To update, run: python.exe -m pip install --upgrade pip\n"
     ]
    }
   ],
   "source": [
    "%pip install vosk"
   ]
  },
  {
   "cell_type": "code",
   "execution_count": 17,
   "metadata": {},
   "outputs": [
    {
     "name": "stdout",
     "output_type": "stream",
     "text": [
      "Note: you may need to restart the kernel to use updated packages.\n",
      "Collecting sounddevice\n",
      "  Obtaining dependency information for sounddevice from https://files.pythonhosted.org/packages/af/9b/15217b04f3b36d30de55fef542389d722de63f1ad81f9c72d8afc98cb6ab/sounddevice-0.5.1-py3-none-win_amd64.whl.metadata\n",
      "  Downloading sounddevice-0.5.1-py3-none-win_amd64.whl.metadata (1.4 kB)\n",
      "Requirement already satisfied: CFFI>=1.0 in c:\\users\\sredd\\appdata\\local\\programs\\python\\python311\\lib\\site-packages (from sounddevice) (1.15.1)\n",
      "Requirement already satisfied: pycparser in c:\\users\\sredd\\appdata\\local\\programs\\python\\python311\\lib\\site-packages (from CFFI>=1.0->sounddevice) (2.21)\n",
      "Downloading sounddevice-0.5.1-py3-none-win_amd64.whl (363 kB)\n",
      "   ---------------------------------------- 0.0/363.6 kB ? eta -:--:--\n",
      "   ---- ---------------------------------- 41.0/363.6 kB 653.6 kB/s eta 0:00:01\n",
      "   ------------------ --------------------- 163.8/363.6 kB 1.6 MB/s eta 0:00:01\n",
      "   ------------------- -------------------- 174.1/363.6 kB 1.7 MB/s eta 0:00:01\n",
      "   ---------------------------------------- 363.6/363.6 kB 2.3 MB/s eta 0:00:00\n",
      "Installing collected packages: sounddevice\n",
      "Successfully installed sounddevice-0.5.1\n"
     ]
    },
    {
     "name": "stderr",
     "output_type": "stream",
     "text": [
      "\n",
      "[notice] A new release of pip is available: 23.2.1 -> 25.0.1\n",
      "[notice] To update, run: python.exe -m pip install --upgrade pip\n"
     ]
    }
   ],
   "source": [
    "%pip install sounddevice "
   ]
  },
  {
   "cell_type": "code",
   "execution_count": 19,
   "metadata": {},
   "outputs": [],
   "source": [
    "import sounddevice as sd\n",
    "import queue\n",
    "import vosk\n",
    "import json"
   ]
  },
  {
   "cell_type": "code",
   "execution_count": 20,
   "metadata": {},
   "outputs": [],
   "source": [
    "model = Model(lang=\"en-us\")"
   ]
  },
  {
   "cell_type": "code",
   "execution_count": 21,
   "metadata": {},
   "outputs": [],
   "source": [
    "recognizer = KaldiRecognizer(model, 16000)"
   ]
  },
  {
   "cell_type": "code",
   "execution_count": 22,
   "metadata": {},
   "outputs": [],
   "source": [
    "q = queue.Queue()"
   ]
  },
  {
   "cell_type": "code",
   "execution_count": 23,
   "metadata": {},
   "outputs": [],
   "source": [
    "def callback(indata, frames, time, status):\n",
    "    q.put(bytes(indata))"
   ]
  },
  {
   "cell_type": "code",
   "execution_count": 33,
   "metadata": {},
   "outputs": [
    {
     "name": "stdout",
     "output_type": "stream",
     "text": [
      "Say something\n",
      "{'partial': ''}\n",
      "{'partial': ''}\n",
      "{'partial': ''}\n",
      "{'partial': ''}\n",
      "{'partial': ''}\n",
      "{'partial': 'hi how are'}\n",
      "{'partial': 'hi how are you'}\n",
      "{'partial': 'hi how are you'}\n"
     ]
    },
    {
     "ename": "KeyboardInterrupt",
     "evalue": "",
     "output_type": "error",
     "traceback": [
      "\u001b[1;31m---------------------------------------------------------------------------\u001b[0m",
      "\u001b[1;31mKeyboardInterrupt\u001b[0m                         Traceback (most recent call last)",
      "Cell \u001b[1;32mIn[33], line 6\u001b[0m\n\u001b[0;32m      3\u001b[0m \u001b[38;5;28mprint\u001b[39m(\u001b[38;5;124m\"\u001b[39m\u001b[38;5;124mSay something\u001b[39m\u001b[38;5;124m\"\u001b[39m)\n\u001b[0;32m      5\u001b[0m \u001b[38;5;28;01mwhile\u001b[39;00m \u001b[38;5;28;01mTrue\u001b[39;00m:\n\u001b[1;32m----> 6\u001b[0m     data \u001b[38;5;241m=\u001b[39m \u001b[43mq\u001b[49m\u001b[38;5;241;43m.\u001b[39;49m\u001b[43mget\u001b[49m\u001b[43m(\u001b[49m\u001b[43m)\u001b[49m\n\u001b[0;32m      7\u001b[0m     \u001b[38;5;28;01mif\u001b[39;00m recognizer\u001b[38;5;241m.\u001b[39mAcceptWaveform(data):\n\u001b[0;32m      8\u001b[0m         result \u001b[38;5;241m=\u001b[39m recognizer\u001b[38;5;241m.\u001b[39mResult()\n",
      "File \u001b[1;32mc:\\Users\\sredd\\AppData\\Local\\Programs\\Python\\Python311\\Lib\\queue.py:171\u001b[0m, in \u001b[0;36mQueue.get\u001b[1;34m(self, block, timeout)\u001b[0m\n\u001b[0;32m    169\u001b[0m \u001b[38;5;28;01melif\u001b[39;00m timeout \u001b[38;5;129;01mis\u001b[39;00m \u001b[38;5;28;01mNone\u001b[39;00m:\n\u001b[0;32m    170\u001b[0m     \u001b[38;5;28;01mwhile\u001b[39;00m \u001b[38;5;129;01mnot\u001b[39;00m \u001b[38;5;28mself\u001b[39m\u001b[38;5;241m.\u001b[39m_qsize():\n\u001b[1;32m--> 171\u001b[0m         \u001b[38;5;28;43mself\u001b[39;49m\u001b[38;5;241;43m.\u001b[39;49m\u001b[43mnot_empty\u001b[49m\u001b[38;5;241;43m.\u001b[39;49m\u001b[43mwait\u001b[49m\u001b[43m(\u001b[49m\u001b[43m)\u001b[49m\n\u001b[0;32m    172\u001b[0m \u001b[38;5;28;01melif\u001b[39;00m timeout \u001b[38;5;241m<\u001b[39m \u001b[38;5;241m0\u001b[39m:\n\u001b[0;32m    173\u001b[0m     \u001b[38;5;28;01mraise\u001b[39;00m \u001b[38;5;167;01mValueError\u001b[39;00m(\u001b[38;5;124m\"\u001b[39m\u001b[38;5;124m'\u001b[39m\u001b[38;5;124mtimeout\u001b[39m\u001b[38;5;124m'\u001b[39m\u001b[38;5;124m must be a non-negative number\u001b[39m\u001b[38;5;124m\"\u001b[39m)\n",
      "File \u001b[1;32mc:\\Users\\sredd\\AppData\\Local\\Programs\\Python\\Python311\\Lib\\threading.py:320\u001b[0m, in \u001b[0;36mCondition.wait\u001b[1;34m(self, timeout)\u001b[0m\n\u001b[0;32m    318\u001b[0m \u001b[38;5;28;01mtry\u001b[39;00m:    \u001b[38;5;66;03m# restore state no matter what (e.g., KeyboardInterrupt)\u001b[39;00m\n\u001b[0;32m    319\u001b[0m     \u001b[38;5;28;01mif\u001b[39;00m timeout \u001b[38;5;129;01mis\u001b[39;00m \u001b[38;5;28;01mNone\u001b[39;00m:\n\u001b[1;32m--> 320\u001b[0m         \u001b[43mwaiter\u001b[49m\u001b[38;5;241;43m.\u001b[39;49m\u001b[43macquire\u001b[49m\u001b[43m(\u001b[49m\u001b[43m)\u001b[49m\n\u001b[0;32m    321\u001b[0m         gotit \u001b[38;5;241m=\u001b[39m \u001b[38;5;28;01mTrue\u001b[39;00m\n\u001b[0;32m    322\u001b[0m     \u001b[38;5;28;01melse\u001b[39;00m:\n",
      "\u001b[1;31mKeyboardInterrupt\u001b[0m: "
     ]
    }
   ],
   "source": [
    "with sd.RawInputStream(samplerate=16000, blocksize=8000, dtype='int16',\n",
    "                       channels=1, callback=callback):\n",
    "    print(\"Say something\")\n",
    "\n",
    "    while True:\n",
    "        data = q.get()\n",
    "        if recognizer.AcceptWaveform(data):\n",
    "            result = recognizer.Result()\n",
    "            print(json.loads(result))\n",
    "        else:\n",
    "            partial_result = recognizer.PartialResult()\n",
    "            print(json.loads(partial_result))\n",
    "\n",
    "    final_result = recognizer.FinalResult()\n",
    "    print(json.loads(final_result))"
   ]
  }
 ],
 "metadata": {
  "kernelspec": {
   "display_name": "Python 3",
   "language": "python",
   "name": "python3"
  },
  "language_info": {
   "codemirror_mode": {
    "name": "ipython",
    "version": 3
   },
   "file_extension": ".py",
   "mimetype": "text/x-python",
   "name": "python",
   "nbconvert_exporter": "python",
   "pygments_lexer": "ipython3",
   "version": "3.11.2"
  }
 },
 "nbformat": 4,
 "nbformat_minor": 2
}
