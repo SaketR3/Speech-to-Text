{
 "cells": [
  {
   "cell_type": "code",
   "execution_count": 1,
   "metadata": {},
   "outputs": [
    {
     "name": "stdout",
     "output_type": "stream",
     "text": [
      "Requirement already satisfied: vosk in c:\\users\\sredd\\appdata\\local\\programs\\python\\python311\\lib\\site-packages (0.3.45)Note: you may need to restart the kernel to use updated packages.\n",
      "\n",
      "Requirement already satisfied: cffi>=1.0 in c:\\users\\sredd\\appdata\\local\\programs\\python\\python311\\lib\\site-packages (from vosk) (1.15.1)\n",
      "Requirement already satisfied: requests in c:\\users\\sredd\\appdata\\local\\programs\\python\\python311\\lib\\site-packages (from vosk) (2.31.0)\n",
      "Requirement already satisfied: srt in c:\\users\\sredd\\appdata\\local\\programs\\python\\python311\\lib\\site-packages (from vosk) (3.5.3)\n",
      "Requirement already satisfied: tqdm in c:\\users\\sredd\\appdata\\local\\programs\\python\\python311\\lib\\site-packages (from vosk) (4.67.1)\n",
      "Requirement already satisfied: websockets in c:\\users\\sredd\\appdata\\local\\programs\\python\\python311\\lib\\site-packages (from vosk) (15.0)\n",
      "Requirement already satisfied: pycparser in c:\\users\\sredd\\appdata\\local\\programs\\python\\python311\\lib\\site-packages (from cffi>=1.0->vosk) (2.21)\n",
      "Requirement already satisfied: charset-normalizer<4,>=2 in c:\\users\\sredd\\appdata\\local\\programs\\python\\python311\\lib\\site-packages (from requests->vosk) (3.2.0)\n",
      "Requirement already satisfied: idna<4,>=2.5 in c:\\users\\sredd\\appdata\\local\\programs\\python\\python311\\lib\\site-packages (from requests->vosk) (3.4)\n",
      "Requirement already satisfied: urllib3<3,>=1.21.1 in c:\\users\\sredd\\appdata\\roaming\\python\\python311\\site-packages (from requests->vosk) (1.26.19)\n",
      "Requirement already satisfied: certifi>=2017.4.17 in c:\\users\\sredd\\appdata\\local\\programs\\python\\python311\\lib\\site-packages (from requests->vosk) (2023.7.22)\n",
      "Requirement already satisfied: colorama in c:\\users\\sredd\\appdata\\local\\programs\\python\\python311\\lib\\site-packages (from tqdm->vosk) (0.4.6)\n"
     ]
    },
    {
     "name": "stderr",
     "output_type": "stream",
     "text": [
      "\n",
      "[notice] A new release of pip is available: 23.2.1 -> 25.0.1\n",
      "[notice] To update, run: python.exe -m pip install --upgrade pip\n"
     ]
    }
   ],
   "source": [
    "%pip install vosk"
   ]
  },
  {
   "cell_type": "code",
   "execution_count": 2,
   "metadata": {},
   "outputs": [
    {
     "name": "stdout",
     "output_type": "stream",
     "text": [
      "Requirement already satisfied: sounddevice in c:\\users\\sredd\\appdata\\local\\programs\\python\\python311\\lib\\site-packages (0.5.1)\n",
      "Requirement already satisfied: CFFI>=1.0 in c:\\users\\sredd\\appdata\\local\\programs\\python\\python311\\lib\\site-packages (from sounddevice) (1.15.1)\n",
      "Requirement already satisfied: pycparser in c:\\users\\sredd\\appdata\\local\\programs\\python\\python311\\lib\\site-packages (from CFFI>=1.0->sounddevice) (2.21)\n",
      "Note: you may need to restart the kernel to use updated packages.\n"
     ]
    },
    {
     "name": "stderr",
     "output_type": "stream",
     "text": [
      "\n",
      "[notice] A new release of pip is available: 23.2.1 -> 25.0.1\n",
      "[notice] To update, run: python.exe -m pip install --upgrade pip\n"
     ]
    }
   ],
   "source": [
    "%pip install sounddevice"
   ]
  },
  {
   "cell_type": "code",
   "execution_count": 3,
   "metadata": {},
   "outputs": [
    {
     "name": "stdout",
     "output_type": "stream",
     "text": [
      "Requirement already satisfied: transformers in c:\\users\\sredd\\appdata\\local\\programs\\python\\python311\\lib\\site-packages (4.47.1)\n",
      "Requirement already satisfied: filelock in c:\\users\\sredd\\appdata\\local\\programs\\python\\python311\\lib\\site-packages (from transformers) (3.16.1)\n",
      "Requirement already satisfied: huggingface-hub<1.0,>=0.24.0 in c:\\users\\sredd\\appdata\\local\\programs\\python\\python311\\lib\\site-packages (from transformers) (0.27.0)\n",
      "Requirement already satisfied: numpy>=1.17 in c:\\users\\sredd\\appdata\\local\\programs\\python\\python311\\lib\\site-packages (from transformers) (1.24.3)\n",
      "Requirement already satisfied: packaging>=20.0 in c:\\users\\sredd\\appdata\\local\\programs\\python\\python311\\lib\\site-packages (from transformers) (23.1)\n",
      "Requirement already satisfied: pyyaml>=5.1 in c:\\users\\sredd\\appdata\\local\\programs\\python\\python311\\lib\\site-packages (from transformers) (6.0.1)\n",
      "Requirement already satisfied: regex!=2019.12.17 in c:\\users\\sredd\\appdata\\local\\programs\\python\\python311\\lib\\site-packages (from transformers) (2024.11.6)\n",
      "Requirement already satisfied: requests in c:\\users\\sredd\\appdata\\local\\programs\\python\\python311\\lib\\site-packages (from transformers) (2.31.0)\n",
      "Requirement already satisfied: tokenizers<0.22,>=0.21 in c:\\users\\sredd\\appdata\\local\\programs\\python\\python311\\lib\\site-packages (from transformers) (0.21.0)\n",
      "Requirement already satisfied: safetensors>=0.4.1 in c:\\users\\sredd\\appdata\\local\\programs\\python\\python311\\lib\\site-packages (from transformers) (0.5.0)\n",
      "Requirement already satisfied: tqdm>=4.27 in c:\\users\\sredd\\appdata\\local\\programs\\python\\python311\\lib\\site-packages (from transformers) (4.67.1)\n",
      "Requirement already satisfied: fsspec>=2023.5.0 in c:\\users\\sredd\\appdata\\local\\programs\\python\\python311\\lib\\site-packages (from huggingface-hub<1.0,>=0.24.0->transformers) (2024.12.0)\n",
      "Requirement already satisfied: typing-extensions>=3.7.4.3 in c:\\users\\sredd\\appdata\\local\\programs\\python\\python311\\lib\\site-packages (from huggingface-hub<1.0,>=0.24.0->transformers) (4.8.0)\n",
      "Requirement already satisfied: colorama in c:\\users\\sredd\\appdata\\local\\programs\\python\\python311\\lib\\site-packages (from tqdm>=4.27->transformers) (0.4.6)\n",
      "Requirement already satisfied: charset-normalizer<4,>=2 in c:\\users\\sredd\\appdata\\local\\programs\\python\\python311\\lib\\site-packages (from requests->transformers) (3.2.0)\n",
      "Requirement already satisfied: idna<4,>=2.5 in c:\\users\\sredd\\appdata\\local\\programs\\python\\python311\\lib\\site-packages (from requests->transformers) (3.4)\n",
      "Requirement already satisfied: urllib3<3,>=1.21.1 in c:\\users\\sredd\\appdata\\roaming\\python\\python311\\site-packages (from requests->transformers) (1.26.19)\n",
      "Requirement already satisfied: certifi>=2017.4.17 in c:\\users\\sredd\\appdata\\local\\programs\\python\\python311\\lib\\site-packages (from requests->transformers) (2023.7.22)\n",
      "Note: you may need to restart the kernel to use updated packages.\n"
     ]
    },
    {
     "name": "stderr",
     "output_type": "stream",
     "text": [
      "\n",
      "[notice] A new release of pip is available: 23.2.1 -> 25.0.1\n",
      "[notice] To update, run: python.exe -m pip install --upgrade pip\n"
     ]
    }
   ],
   "source": [
    "%pip install transformers"
   ]
  },
  {
   "cell_type": "code",
   "execution_count": 4,
   "metadata": {},
   "outputs": [
    {
     "name": "stderr",
     "output_type": "stream",
     "text": [
      "c:\\Users\\sredd\\AppData\\Local\\Programs\\Python\\Python311\\Lib\\site-packages\\tqdm\\auto.py:21: TqdmWarning: IProgress not found. Please update jupyter and ipywidgets. See https://ipywidgets.readthedocs.io/en/stable/user_install.html\n",
      "  from .autonotebook import tqdm as notebook_tqdm\n"
     ]
    }
   ],
   "source": [
    "import sounddevice as sd\n",
    "import vosk\n",
    "from vosk import Model, KaldiRecognizer\n",
    "import json\n",
    "import numpy as np\n",
    "import queue\n",
    "from transformers import pipeline\n",
    "import time"
   ]
  },
  {
   "cell_type": "code",
   "execution_count": 5,
   "metadata": {},
   "outputs": [],
   "source": [
    "# Load Vosk model\n",
    "vosk_model = Model(lang=\"en-us\")  # Ensure the model path is correct\n",
    "recognizer = KaldiRecognizer(vosk_model, 16000)"
   ]
  },
  {
   "cell_type": "code",
   "execution_count": 12,
   "metadata": {},
   "outputs": [
    {
     "name": "stderr",
     "output_type": "stream",
     "text": [
      "Device set to use cpu\n"
     ]
    }
   ],
   "source": [
    "# Load Blaze 999 medical NER model\n",
    "ner_pipeline = pipeline(\"token-classification\", model=\"blaze999/Medical-NER\")"
   ]
  },
  {
   "cell_type": "code",
   "execution_count": 6,
   "metadata": {},
   "outputs": [],
   "source": [
    "q = queue.Queue()"
   ]
  },
  {
   "cell_type": "code",
   "execution_count": 23,
   "metadata": {},
   "outputs": [],
   "source": [
    "NUM_SECONDS_TO_RECORD = 10\n",
    "\n",
    "def record_and_transcribe():\n",
    "    \"\"\"Records audio, transcribes it with Vosk, and applies medical NER.\"\"\"\n",
    "    samplerate = 16000  # Sample rate\n",
    "    blocksize = int(samplerate * 0.03)  # 30ms frame size\n",
    "    \n",
    "    print(\"Listening...\")\n",
    "    recorded_audio = []\n",
    "    \n",
    "    start_time = time.time()  # Start time for recording\n",
    "    \n",
    "    def callback(indata, frames, time_info, status):\n",
    "        nonlocal start_time\n",
    "        if status:\n",
    "            print(status)\n",
    "        \n",
    "        recorded_audio.append(indata.copy())\n",
    "        \n",
    "        # Stop recording after 5 seconds\n",
    "        if time.time() - start_time >= NUM_SECONDS_TO_RECORD:\n",
    "            raise sd.CallbackStop  # Stop the stream after 5 seconds\n",
    "\n",
    "    # Set up the InputStream\n",
    "    with sd.InputStream(callback=callback, samplerate=samplerate, channels=1, blocksize=blocksize):\n",
    "        try:\n",
    "            # Let the stream run for 5 seconds\n",
    "            sd.sleep(NUM_SECONDS_TO_RECORD * 1000)  # Sleep for 5 seconds (5000 ms)\n",
    "        except sd.CallbackStop:\n",
    "            print(\"Recording stopped\")\n",
    "    \n",
    "    # Check if we recorded any audio\n",
    "    if not recorded_audio:\n",
    "        print(\"No audio recorded.\")\n",
    "        return None, None\n",
    "    \n",
    "    print(\"Processing...\")\n",
    "    \n",
    "    # Convert recorded audio to a single numpy array\n",
    "    audio_data = np.concatenate(recorded_audio, axis=0)\n",
    "    \n",
    "    # Convert to 16-bit PCM (Vosk requires 16-bit signed PCM format)\n",
    "    audio_data_int16 = np.int16(audio_data * 32767)  # Scale float32 to int16\n",
    "    audio_bytes = audio_data_int16.tobytes()  # Convert to bytes\n",
    "    \n",
    "    # Perform speech recognition\n",
    "    recognizer.AcceptWaveform(audio_bytes)\n",
    "    result = recognizer.Result()\n",
    "    text = json.loads(result).get(\"text\", \"\")\n",
    "    \n",
    "    print(\"Transcription:\", text)\n",
    "\n",
    "    print(\"Doing NER\")\n",
    "    ner_results = ner_pipeline(text)\n",
    "    print(\"Medical Entities:\", ner_results)\n",
    "    \n",
    "    return text, ner_results"
   ]
  },
  {
   "cell_type": "code",
   "execution_count": 24,
   "metadata": {},
   "outputs": [
    {
     "name": "stdout",
     "output_type": "stream",
     "text": [
      "Listening...\n",
      "Processing...\n",
      "Transcription: morning mister smith i see have been experiencing some chest discomfort\n",
      "Doing NER\n",
      "Medical Entities: [{'entity': 'B-BIOLOGICAL_STRUCTURE', 'score': 0.29082862, 'index': 10, 'word': '▁chest', 'start': 54, 'end': 60}, {'entity': 'B-SIGN_SYMPTOM', 'score': 0.21618494, 'index': 11, 'word': '▁discomfort', 'start': 60, 'end': 71}]\n"
     ]
    },
    {
     "data": {
      "text/plain": [
       "('morning mister smith i see have been experiencing some chest discomfort',\n",
       " [{'entity': 'B-BIOLOGICAL_STRUCTURE',\n",
       "   'score': 0.29082862,\n",
       "   'index': 10,\n",
       "   'word': '▁chest',\n",
       "   'start': 54,\n",
       "   'end': 60},\n",
       "  {'entity': 'B-SIGN_SYMPTOM',\n",
       "   'score': 0.21618494,\n",
       "   'index': 11,\n",
       "   'word': '▁discomfort',\n",
       "   'start': 60,\n",
       "   'end': 71}])"
      ]
     },
     "execution_count": 24,
     "metadata": {},
     "output_type": "execute_result"
    }
   ],
   "source": [
    "record_and_transcribe()"
   ]
  }
 ],
 "metadata": {
  "kernelspec": {
   "display_name": "Python 3",
   "language": "python",
   "name": "python3"
  },
  "language_info": {
   "codemirror_mode": {
    "name": "ipython",
    "version": 3
   },
   "file_extension": ".py",
   "mimetype": "text/x-python",
   "name": "python",
   "nbconvert_exporter": "python",
   "pygments_lexer": "ipython3",
   "version": "3.11.2"
  }
 },
 "nbformat": 4,
 "nbformat_minor": 2
}
